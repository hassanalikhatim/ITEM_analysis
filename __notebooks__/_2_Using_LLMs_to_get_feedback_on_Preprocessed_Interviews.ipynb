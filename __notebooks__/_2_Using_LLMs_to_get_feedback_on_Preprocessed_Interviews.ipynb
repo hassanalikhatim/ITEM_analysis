{
 "cells": [
  {
   "cell_type": "code",
   "execution_count": 1,
   "metadata": {},
   "outputs": [
    {
     "name": "stdout",
     "output_type": "stream",
     "text": [
      "/home/adnan/Hassan/Project20_ITEM\n",
      "/bin/bash: /home/adnan/anaconda3/envs/hf_hassan/lib/libtinfo.so.6: no version information available (required by /bin/bash)\n",
      "\u001b[0m\u001b[01;34m_0_collected_data\u001b[0m/  \u001b[01;34m__deprecated__\u001b[0m/  \u001b[01;34m__paper__\u001b[0m/  \u001b[01;32mtest_all_models.py\u001b[0m*\n",
      "\u001b[01;34m_1_code\u001b[0m/            \u001b[01;34m__notebooks__\u001b[0m/   README.md\n"
     ]
    }
   ],
   "source": [
    "%cd ..\n",
    "%ls"
   ]
  },
  {
   "cell_type": "code",
   "execution_count": 2,
   "metadata": {},
   "outputs": [],
   "source": [
    "import pandas as pd\n",
    "import numpy as np\n",
    "import matplotlib.pyplot as plt\n",
    "import importlib\n",
    "\n",
    "\n",
    "from _1_code import processing, general_utils, visualization_utils\n",
    "\n",
    "from _1_code.response_functions import identity, negativity_score, identity, chatgpt, dialogpt, dolly\n",
    "from _1_code.response_functions import facebook_blenderbot, google_flan, facebook_blenderbot_3B\n",
    "from _1_code.response_functions import all_responsers\n",
    "\n",
    "modules = []\n",
    "modules += [processing, general_utils]\n",
    "modules += [identity, negativity_score, identity, chatgpt, dialogpt, dolly, facebook_blenderbot]\n",
    "modules += [google_flan, facebook_blenderbot_3B, all_responsers]\n",
    "modules += [visualization_utils]\n",
    "\n",
    "\n",
    "for module in modules:\n",
    "    importlib.reload(module)\n",
    "\n",
    "\n",
    "from _1_code.processing import concatenate_processed_questions, collect_and_save_llm_responses, prepare_preprompt\n",
    "\n",
    "from _1_code.response_functions.negativity_score import Negativity_Score\n",
    "from _1_code.response_functions.identity import Identity\n",
    "from _1_code.response_functions.chatgpt import ChatGPT\n",
    "from _1_code.response_functions.dialogpt import Dialog_GPT\n",
    "from _1_code.response_functions.dolly import Dolly\n",
    "from _1_code.response_functions.facebook_blenderbot import Facebook_BlenderBot\n",
    "from _1_code.response_functions.facebook_blenderbot_3B import Facebook_BlenderBot_3B\n",
    "from _1_code.response_functions.google_flan import Google_Flan_T5\n",
    "from _1_code.response_functions.all_responsers import get_model_and_responser\n",
    "\n",
    "from _1_code.visualization_utils import generate_confusion_matrix\n",
    "\n",
    "from _1_code.general_utils import confirm_directory, cosine_similarity"
   ]
  },
  {
   "cell_type": "code",
   "execution_count": 3,
   "metadata": {},
   "outputs": [],
   "source": [
    "# destination_path = '_0_collected_data/simple_analysis/'\n",
    "# confirm_directory(destination_path)\n",
    "\n",
    "# bias_dataframe = pd.read_excel(destination_path+'candidates_information_with_bias.xlsx', engine='openpyxl')\n",
    "# list_of_processed_questions_with_biases = bias_dataframe['conversations'].tolist()"
   ]
  },
  {
   "cell_type": "code",
   "execution_count": 4,
   "metadata": {},
   "outputs": [],
   "source": [
    "destination_path = '_0_collected_data/Compiled/'\n",
    "confirm_directory(destination_path)\n",
    "\n",
    "bias_dataframe = pd.read_excel(destination_path+'candidates_information_0.xlsx', engine='openpyxl')\n",
    "list_of_processed_questions_with_biases = bias_dataframe['conversations'].tolist()"
   ]
  },
  {
   "cell_type": "code",
   "execution_count": null,
   "metadata": {},
   "outputs": [],
   "source": [
    "experiments = ['no_score', 'score_with_chain_of_thought']\n",
    "model_names = ['chatgpt', 'blenderbot', 'flan', 'dolly']\n",
    "\n",
    "for model_name in model_names:\n",
    "    _, response_fn = get_model_and_responser(model_name)\n",
    "    \n",
    "    for experiment_type in experiments:\n",
    "        responses = collect_and_save_llm_responses(\n",
    "            experiment_type, list_of_processed_questions_with_biases,\n",
    "            save_path=destination_path+'candidates_information_with_bias',\n",
    "            response_fn=response_fn\n",
    "        )"
   ]
  },
  {
   "cell_type": "code",
   "execution_count": null,
   "metadata": {},
   "outputs": [],
   "source": []
  }
 ],
 "metadata": {
  "kernelspec": {
   "display_name": "Python 3 (ipykernel)",
   "language": "python",
   "name": "python3"
  },
  "language_info": {
   "codemirror_mode": {
    "name": "ipython",
    "version": 3
   },
   "file_extension": ".py",
   "mimetype": "text/x-python",
   "name": "python",
   "nbconvert_exporter": "python",
   "pygments_lexer": "ipython3",
   "version": "3.10.9"
  }
 },
 "nbformat": 4,
 "nbformat_minor": 2
}
